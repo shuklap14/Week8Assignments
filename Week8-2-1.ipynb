{
 "cells": [
  {
   "cell_type": "code",
   "execution_count": 3,
   "metadata": {},
   "outputs": [],
   "source": [
    "import pandas as pd"
   ]
  },
  {
   "cell_type": "code",
   "execution_count": 16,
   "metadata": {},
   "outputs": [],
   "source": [
    "df = pd.read_csv(r'C:\\Users\\praga\\OneDrive\\Desktop\\DataViz\\datasets\\datasets\\gradedata.csv')"
   ]
  },
  {
   "cell_type": "code",
   "execution_count": 17,
   "metadata": {},
   "outputs": [],
   "source": [
    "df['name']=df['lname']+' ' +df['fname']"
   ]
  },
  {
   "cell_type": "code",
   "execution_count": 18,
   "metadata": {},
   "outputs": [],
   "source": [
    "df = df.sort_values(by=['name', 'age','grade'],ascending=[True, True, True])\n"
   ]
  },
  {
   "cell_type": "code",
   "execution_count": 19,
   "metadata": {},
   "outputs": [
    {
     "data": {
      "text/html": [
       "<div>\n",
       "<style scoped>\n",
       "    .dataframe tbody tr th:only-of-type {\n",
       "        vertical-align: middle;\n",
       "    }\n",
       "\n",
       "    .dataframe tbody tr th {\n",
       "        vertical-align: top;\n",
       "    }\n",
       "\n",
       "    .dataframe thead th {\n",
       "        text-align: right;\n",
       "    }\n",
       "</style>\n",
       "<table border=\"1\" class=\"dataframe\">\n",
       "  <thead>\n",
       "    <tr style=\"text-align: right;\">\n",
       "      <th></th>\n",
       "      <th>fname</th>\n",
       "      <th>lname</th>\n",
       "      <th>gender</th>\n",
       "      <th>age</th>\n",
       "      <th>exercise</th>\n",
       "      <th>hours</th>\n",
       "      <th>grade</th>\n",
       "      <th>address</th>\n",
       "      <th>name</th>\n",
       "    </tr>\n",
       "  </thead>\n",
       "  <tbody>\n",
       "    <tr>\n",
       "      <th>819</th>\n",
       "      <td>Athena</td>\n",
       "      <td>Acevedo</td>\n",
       "      <td>female</td>\n",
       "      <td>15</td>\n",
       "      <td>4</td>\n",
       "      <td>12</td>\n",
       "      <td>90.0</td>\n",
       "      <td>8392 Euclid Ave., Miami, FL 33125</td>\n",
       "      <td>Acevedo Athena</td>\n",
       "    </tr>\n",
       "    <tr>\n",
       "      <th>1458</th>\n",
       "      <td>Cedric</td>\n",
       "      <td>Acevedo</td>\n",
       "      <td>male</td>\n",
       "      <td>19</td>\n",
       "      <td>5</td>\n",
       "      <td>14</td>\n",
       "      <td>98.8</td>\n",
       "      <td>50 Vine Lane, Derby, KS 67037</td>\n",
       "      <td>Acevedo Cedric</td>\n",
       "    </tr>\n",
       "    <tr>\n",
       "      <th>1770</th>\n",
       "      <td>Leandra</td>\n",
       "      <td>Acevedo</td>\n",
       "      <td>female</td>\n",
       "      <td>14</td>\n",
       "      <td>1</td>\n",
       "      <td>15</td>\n",
       "      <td>94.4</td>\n",
       "      <td>51 Central Drive, South Windsor, CT 06074</td>\n",
       "      <td>Acevedo Leandra</td>\n",
       "    </tr>\n",
       "    <tr>\n",
       "      <th>1439</th>\n",
       "      <td>Levi</td>\n",
       "      <td>Acevedo</td>\n",
       "      <td>male</td>\n",
       "      <td>14</td>\n",
       "      <td>2</td>\n",
       "      <td>6</td>\n",
       "      <td>63.0</td>\n",
       "      <td>87 Cooper Ave., Westland, MI 48185</td>\n",
       "      <td>Acevedo Levi</td>\n",
       "    </tr>\n",
       "    <tr>\n",
       "      <th>762</th>\n",
       "      <td>Rhiannon</td>\n",
       "      <td>Acevedo</td>\n",
       "      <td>female</td>\n",
       "      <td>15</td>\n",
       "      <td>3</td>\n",
       "      <td>10</td>\n",
       "      <td>72.7</td>\n",
       "      <td>451 Pendergast Street, Bartlett, IL 60103</td>\n",
       "      <td>Acevedo Rhiannon</td>\n",
       "    </tr>\n",
       "  </tbody>\n",
       "</table>\n",
       "</div>"
      ],
      "text/plain": [
       "         fname    lname  gender  age  exercise  hours  grade  \\\n",
       "819     Athena  Acevedo  female   15         4     12   90.0   \n",
       "1458    Cedric  Acevedo    male   19         5     14   98.8   \n",
       "1770   Leandra  Acevedo  female   14         1     15   94.4   \n",
       "1439      Levi  Acevedo    male   14         2      6   63.0   \n",
       "762   Rhiannon  Acevedo  female   15         3     10   72.7   \n",
       "\n",
       "                                        address              name  \n",
       "819           8392 Euclid Ave., Miami, FL 33125    Acevedo Athena  \n",
       "1458              50 Vine Lane, Derby, KS 67037    Acevedo Cedric  \n",
       "1770  51 Central Drive, South Windsor, CT 06074   Acevedo Leandra  \n",
       "1439         87 Cooper Ave., Westland, MI 48185      Acevedo Levi  \n",
       "762   451 Pendergast Street, Bartlett, IL 60103  Acevedo Rhiannon  "
      ]
     },
     "execution_count": 19,
     "metadata": {},
     "output_type": "execute_result"
    }
   ],
   "source": [
    "df.head()"
   ]
  }
 ],
 "metadata": {
  "kernelspec": {
   "display_name": "Python 3",
   "language": "python",
   "name": "python3"
  },
  "language_info": {
   "codemirror_mode": {
    "name": "ipython",
    "version": 3
   },
   "file_extension": ".py",
   "mimetype": "text/x-python",
   "name": "python",
   "nbconvert_exporter": "python",
   "pygments_lexer": "ipython3",
   "version": "3.7.3"
  }
 },
 "nbformat": 4,
 "nbformat_minor": 2
}
